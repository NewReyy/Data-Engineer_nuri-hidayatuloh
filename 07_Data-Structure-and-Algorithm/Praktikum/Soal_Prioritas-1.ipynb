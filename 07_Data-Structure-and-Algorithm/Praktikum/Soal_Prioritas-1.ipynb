{
 "cells": [
  {
   "cell_type": "markdown",
   "metadata": {},
   "source": [
    "### **Tugas**\n",
    "\n",
    "### **Soal Prioritas 1 (80)**\n",
    "\n",
    "1. Buatlah sebuah program untuk mengelompokkan sekumpulan bilangan berdasarkan target kelipatan yang diinginkan:\n",
    "\n",
    "Test Case 1:\n",
    "\n",
    "- Input:\n",
    "    - Numbers: [1,2,3,4,5,6,7,8,9]\n",
    "    - Target: 3\n",
    "- Output: [[3, 6, 9], [1, 2, 4, 5, 7, 8]]\n",
    "\n",
    "Test Case 2:\n",
    "\n",
    "- Input:\n",
    "    - Numbers: [23,15,19,20,75,30,45]\n",
    "    - Target: 5\n",
    "- Output: [[15, 20, 75, 30, 45], [23, 19]]"
   ]
  },
  {
   "cell_type": "code",
   "execution_count": 1,
   "metadata": {},
   "outputs": [
    {
     "name": "stdout",
     "output_type": "stream",
     "text": [
      "[[3, 6, 9], [1, 2, 4, 5, 7, 8]]\n",
      "[[15, 20, 75, 30, 45], [23, 19]]\n"
     ]
    }
   ],
   "source": [
    "def group_numbers(numbers, target):\n",
    "    result = [[], []]\n",
    "\n",
    "    for num in numbers:\n",
    "        if num % target == 0:\n",
    "            result[0].append(num)\n",
    "        else:\n",
    "            result[1].append(num)\n",
    "\n",
    "    return result\n",
    "\n",
    "print(group_numbers([1, 2, 3, 4, 5, 6, 7, 8, 9], 3))  # Output: [[3, 6, 9], [1, 2, 4, 5, 7, 8]]\n",
    "print(group_numbers([23, 15, 19, 20, 75, 30, 45], 5))  # Output: [[15, 20, 75, 30, 45], [23, 19]]"
   ]
  },
  {
   "cell_type": "markdown",
   "metadata": {},
   "source": [
    "2. Sebuah perusahaan roti ingin menentukan jenis roti yang dibuat berdasarkan jumlah tepung yang tersedia. Buatlah sebuah program untuk menentukan jenis roti yang dapat dibuat berdasarkan jumlah tepung yang tersedia.\n",
    "\n",
    "Test Case 1:\n",
    "\n",
    "- Input:\n",
    "    - Flour stock: 100\n",
    "    - Breads: [{\"name\":\"donut\",\"flour\":25},{\"name\":\"mini puff\",\"flour\":15},{\"name\":\"baguette\",\"flour\":75},{\"name\":\"cupcake\",\"flour\":15}]\n",
    "- Output: tampilkan jenis roti yang dapat dibuat\n",
    "    - ['mini puff', 'cupcake', 'donut']"
   ]
  },
  {
   "cell_type": "code",
   "execution_count": 6,
   "metadata": {},
   "outputs": [
    {
     "name": "stdout",
     "output_type": "stream",
     "text": [
      "['mini puff', 'cupcake', 'donut']\n",
      "['mini puff', 'choco chips', 'pancake', 'bagel', 'cupcake']\n"
     ]
    }
   ],
   "source": [
    "def get_breads(breads, flour_stock):\n",
    "    available_breads = []  # Membuat daftar untuk menyimpan jenis roti yang dapat dibuat\n",
    "\n",
    "    # Mengurutkan roti berdasarkan jumlah tepung yang dibutuhkan\n",
    "    sorted_breads = sorted(breads, key=lambda x: x[\"flour\"])\n",
    "\n",
    "    # Iterasi melalui roti yang sudah diurutkan\n",
    "    for bread in sorted_breads:\n",
    "        # Memeriksa apakah stok tepung cukup untuk membuat roti tertentu\n",
    "        if flour_stock >= bread[\"flour\"]:\n",
    "            # Jika ya, tambahkan jenis roti ke daftar yang dapat dibuat\n",
    "            available_breads.append(bread[\"name\"])\n",
    "            # Kurangkan stok tepung sesuai dengan jumlah tepung yang dibutuhkan untuk roti tersebut\n",
    "            flour_stock -= bread[\"flour\"]\n",
    "\n",
    "    # Mengembalikan daftar jenis roti yang dapat dibuat\n",
    "    return available_breads\n",
    "\n",
    "# Contoh penggunaan fungsi dengan dua set roti dan stok tepung yang berbeda\n",
    "bread1 = [\n",
    "    {\"name\": \"donut\", \"flour\": 25},\n",
    "    {\"name\": \"mini puff\", \"flour\": 15},\n",
    "    {\"name\": \"baguette\", \"flour\": 75},\n",
    "    {\"name\": \"cupcake\", \"flour\": 15},\n",
    "]\n",
    "\n",
    "bread2 = [\n",
    "    {\"name\": \"pancake\", \"flour\": 15},\n",
    "    {\"name\": \"waffle\", \"flour\": 25},\n",
    "    {\"name\": \"bagel\", \"flour\": 15},\n",
    "    {\"name\": \"cupcake\", \"flour\": 15},\n",
    "    {\"name\": \"choco chips\", \"flour\": 10},\n",
    "    {\"name\": \"mini puff\", \"flour\": 5},\n",
    "    {\"name\": \"bread\", \"flour\": 30},\n",
    "]\n",
    "\n",
    "# Menampilkan hasil untuk dua set roti dan stok tepung yang berbeda\n",
    "print(get_breads(bread1, 100))  # ['mini puff', 'cupcake', 'donut']\n",
    "print(get_breads(bread2, 75))   # ['mini puff', 'choco chips', 'pancake', 'bagel', 'cupcake']"
   ]
  }
 ],
 "metadata": {
  "kernelspec": {
   "display_name": "Python 3",
   "language": "python",
   "name": "python3"
  },
  "language_info": {
   "codemirror_mode": {
    "name": "ipython",
    "version": 3
   },
   "file_extension": ".py",
   "mimetype": "text/x-python",
   "name": "python",
   "nbconvert_exporter": "python",
   "pygments_lexer": "ipython3",
   "version": "3.9.7"
  }
 },
 "nbformat": 4,
 "nbformat_minor": 2
}
