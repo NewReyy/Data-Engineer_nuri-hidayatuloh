{
 "cells": [
  {
   "cell_type": "code",
   "execution_count": 2,
   "metadata": {},
   "outputs": [],
   "source": [
    "import os\n",
    "from dotenv import load_dotenv\n",
    "from openai import OpenAI\n",
    "import pandas as pd\n",
    "\n",
    "load_dotenv()\n",
    "\n",
    "api = os.getenv(\"API_KEY\")\n",
    "\n",
    "client = OpenAI(\n",
    "    api_key=api,\n",
    "    base_url=\"https://api.naga.ac/v1\"\n",
    "    )\n",
    "\n",
    "def generate(prompt, model=\"gpt-3.5-turbo\"):\n",
    "    response = client.chat.completions.create(\n",
    "        model=model,\n",
    "        messages=[\n",
    "            {\n",
    "                \"role\": \"user\",\n",
    "                \"content\": prompt,\n",
    "            },\n",
    "        ],\n",
    "    )\n",
    "\n",
    "    return response.choices[0].message.content"
   ]
  },
  {
   "cell_type": "code",
   "execution_count": 12,
   "metadata": {},
   "outputs": [
    {
     "name": "stdout",
     "output_type": "stream",
     "text": [
      "SELECT jenis_tanaman, MONTH(tanggal_pembelian) AS bulan, SUM(jumlah_terjual) AS total_terjual\n",
      "FROM penjualan\n",
      "GROUP BY jenis_tanaman, MONTH(tanggal_pembelian);\n"
     ]
    }
   ],
   "source": [
    "prompt = (\"Buatkan SQL query untuk menghitung jumlah_terjual untuk masing-masing jenis_tanaman setiap bulan dengan kolom tanggal_pembelian pada tabel penjualan. Berikan SQL Queries nya saja\")\n",
    "\n",
    "QUERY_SQL = generate(prompt)\n",
    "print(QUERY_SQL)"
   ]
  }
 ],
 "metadata": {
  "kernelspec": {
   "display_name": "Python 3",
   "language": "python",
   "name": "python3"
  },
  "language_info": {
   "codemirror_mode": {
    "name": "ipython",
    "version": 3
   },
   "file_extension": ".py",
   "mimetype": "text/x-python",
   "name": "python",
   "nbconvert_exporter": "python",
   "pygments_lexer": "ipython3",
   "version": "3.12.2"
  }
 },
 "nbformat": 4,
 "nbformat_minor": 2
}
