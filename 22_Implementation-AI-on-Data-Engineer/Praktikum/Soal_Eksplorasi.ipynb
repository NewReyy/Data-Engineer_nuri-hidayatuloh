{
 "cells": [
  {
   "cell_type": "code",
   "execution_count": 1,
   "metadata": {},
   "outputs": [],
   "source": [
    "import os\n",
    "from dotenv import load_dotenv\n",
    "from openai import OpenAI\n",
    "import pandas as pd\n",
    "\n",
    "load_dotenv()\n",
    "\n",
    "api = os.getenv(\"API_KEY\")\n",
    "\n",
    "client = OpenAI(\n",
    "    api_key=api,\n",
    "    base_url=\"https://api.naga.ac/v1\"\n",
    "    )\n",
    "\n",
    "def generate(prompt, model=\"gpt-3.5-turbo\"):\n",
    "    response = client.chat.completions.create(\n",
    "        model=model,\n",
    "        messages=[\n",
    "            {\n",
    "                \"role\": \"user\",\n",
    "                \"content\": prompt,\n",
    "            },\n",
    "        ],\n",
    "    )\n",
    "\n",
    "    return response.choices[0].message.content\n",
    "\n",
    "df = pd.read_csv(\"zara.csv\")"
   ]
  },
  {
   "cell_type": "code",
   "execution_count": 2,
   "metadata": {},
   "outputs": [
    {
     "name": "stdout",
     "output_type": "stream",
     "text": [
      "Dataset ini berisi informasi tentang berbagai produk pakaian dari merek Zara, termasuk data penempatan produk, apakah ada promosi, kategori produk, apakah musiman, volume penjualan, harga, dan lainnya.\n",
      "\n",
      "Analisis Data:\n",
      "1. Berdasarkan kolom Sales Volume, produk dengan volume penjualan tertinggi adalah 2942, sedangkan yang terendah adalah 654.\n",
      "2. Sebagian besar produk berkategori Clothing, dipromosikan, dan musiman.\n",
      "3. Mayoritas penempatan produk berada di Aisle dan End-cap.\n",
      "\n",
      "Rekomendasi:\n",
      "1. Memperhatikan produk dengan volume penjualan tinggi untuk meningkatkan stok atau promosi lebih lanjut.\n",
      "2. Meninjau keefektifan promosi yang dilakukan terhadap produk dengan melihat hubungannya dengan peningkatan penjualan.\n",
      "3. Memperhatikan pola penempatan produk (Aisle vs End-cap) dan mengevaluasi mana yang lebih efektif dalam meningkatkan penjualan.\n",
      "4. Memperhatikan produk musiman dan menyesuaikan stok serta promosi sesuai dengan musim tersebut.\n",
      "5. Melakukan analisis harga untuk memastikan bahwa harga produk kompetitif dan dapat menarik pelanggan.\n",
      "\n",
      "Dengan menerapkan rekomendasi di atas, diharapkan dapat membantu dalam pengambilan keputusan bisnis yang lebih baik dalam mengelola produk pakaian dari merek Zara.\n"
     ]
    }
   ],
   "source": [
    "prompt = (f\"Berikan analisis data dan berikan Rekomendasi yang dapat membantu dalam pengambilan keputusan bisnis dari dataset berikut: \\n\\n {df}\")\n",
    "\n",
    "hasil = generate(prompt)\n",
    "print(hasil)"
   ]
  }
 ],
 "metadata": {
  "kernelspec": {
   "display_name": "Python 3",
   "language": "python",
   "name": "python3"
  },
  "language_info": {
   "codemirror_mode": {
    "name": "ipython",
    "version": 3
   },
   "file_extension": ".py",
   "mimetype": "text/x-python",
   "name": "python",
   "nbconvert_exporter": "python",
   "pygments_lexer": "ipython3",
   "version": "3.12.2"
  }
 },
 "nbformat": 4,
 "nbformat_minor": 2
}
