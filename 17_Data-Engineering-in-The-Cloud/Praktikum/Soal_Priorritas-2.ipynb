{
 "cells": [
  {
   "cell_type": "code",
   "execution_count": 1,
   "metadata": {},
   "outputs": [
    {
     "name": "stdout",
     "output_type": "stream",
     "text": [
      "Load Data Berhasil\n"
     ]
    }
   ],
   "source": [
    "import firebase_admin\n",
    "from firebase_admin import credentials, storage\n",
    "import pandas as pd\n",
    "import requests\n",
    "\n",
    "# Fungsi untuk ekstraksi data dari JSON URL\n",
    "def extract_data_json(json_url):\n",
    "    response = requests.get(json_url)\n",
    "    data = response.json()\n",
    "    df = pd.DataFrame(data)\n",
    "    return df\n",
    "\n",
    "# Fungsi untuk transformasi data (mengambil transaksi saham dengan harga di atas 500 untuk simbol GOOGL, AMZN, MSFT, dan AAPL)\n",
    "def transform_data(df):\n",
    "    symbols = ['GOOGL', 'AMZN', 'MSFT', 'AAPL']\n",
    "    df_transformed = df[df['stock_symbol'].isin(symbols) & (df['trade_price'] > 500)]\n",
    "    return df_transformed\n",
    "\n",
    "# Fungsi untuk load ke Google Storage\n",
    "def load_data_to_firebase(df, storage_bucket, filename):\n",
    "    try:\n",
    "        # Cek apakah aplikasi Firebase sudah diinisialisasi sebelumnya\n",
    "        if not firebase_admin._apps:\n",
    "            # Jika belum, inisialisasi aplikasi Firebase\n",
    "            cred = credentials.Certificate(\"accountKey.json\")\n",
    "            firebase_admin.initialize_app(cred, {\n",
    "                \"storageBucket\": storage_bucket\n",
    "            })\n",
    "        \n",
    "        bucket = storage.bucket()\n",
    "        \n",
    "        blob = bucket.blob(filename)\n",
    "        df.to_parquet(filename)\n",
    "        blob.upload_from_filename(filename, content_type='parquet')\n",
    "        \n",
    "        print(\"Load Data Berhasil\")\n",
    "    except Exception as e:\n",
    "        print(\"Error:\", e)\n",
    "\n",
    "# Jalankan fungsi-fungsi secara berurutan\n",
    "if __name__ == \"__main__\":\n",
    "    try:\n",
    "        # Ekstraksi data dari JSON URL\n",
    "        json_url = \"https://gist.githubusercontent.com/nadirbslmh/93b62fdcfa694d4ec07bed9b3c94e401/raw/c07971341361e23fd4f3a880437c4d8e4ebcfafc/stock_trades.json\"\n",
    "        extracted_df = extract_data_json(json_url)\n",
    "        \n",
    "        # Transformasi data\n",
    "        transformed_df = transform_data(extracted_df)\n",
    "        \n",
    "        # Load data yang telah ditransformasi ke Google Storage\n",
    "        storage_bucket = \"de-in-cloud-nuri-hidayatuloh.appspot.com\"\n",
    "        filename = \"stock_trades.parquet\"\n",
    "        load_data_to_firebase(transformed_df, storage_bucket, filename)\n",
    "    except Exception as e:\n",
    "        print(\"Error:\", e)"
   ]
  }
 ],
 "metadata": {
  "kernelspec": {
   "display_name": "Python 3",
   "language": "python",
   "name": "python3"
  },
  "language_info": {
   "codemirror_mode": {
    "name": "ipython",
    "version": 3
   },
   "file_extension": ".py",
   "mimetype": "text/x-python",
   "name": "python",
   "nbconvert_exporter": "python",
   "pygments_lexer": "ipython3",
   "version": "3.12.2"
  }
 },
 "nbformat": 4,
 "nbformat_minor": 2
}
