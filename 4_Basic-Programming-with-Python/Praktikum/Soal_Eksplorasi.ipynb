{
 "cells": [
  {
   "cell_type": "markdown",
   "metadata": {},
   "source": [
    "### Soal **Eksplorasi (20)**\n",
    "\n",
    "1. Buatlah sebuah program untuk memeriksa apakah sebuah kata adalah anagram dari suatu kata yang lain. Anagram merupakan sebuah kata yang memiliki frekuensi huruf yang sama dengan kata lain.\n",
    "\n",
    "Contoh dari anagram adalah sebagai berikut:\n",
    "\n",
    "1. Kata **pulsa** merupakan anagram dari kata **palsu** karena jumlah frekuensi huruf pada dua kata tersebut adalah sama.\n",
    "2. Kata **kasur** merupakan anagram dari kata **rusak** karena jumlah frekuensi huruf pada dua kata tersebut adalah sama.\n",
    "3. Kata **donat bukan** merupakan anagram dari kata **donatello** karena jumlah frekuensi huruf pada dua kata tersebut beda.\n",
    "\n",
    "Test case\n",
    "\n",
    "Input:\n",
    "\n",
    "- Kata pertama: kasur\n",
    "- Kata kedua: rusak\n",
    "\n",
    "Output:\n",
    "\n",
    "Anagram\n",
    "\n",
    "Pembahasan: kata **kasur** merupakan anagram dari kata **rusak** karena jumlah frekuensi huruf pada dua kata tersebut adalah sama.\n",
    "\n",
    "Input:\n",
    "\n",
    "- Kata pertama: donat\n",
    "- Kata kedua: tandon\n",
    "\n",
    "Output:\n",
    "\n",
    "Bukan Anagram\n",
    "\n",
    "Pembahasan: kata **donat** bukan merupakan anagram dari kata **tandon** karena jumlah frekuensi huruf pada dua kata tersebut berbeda."
   ]
  },
  {
   "cell_type": "code",
   "execution_count": 8,
   "metadata": {},
   "outputs": [
    {
     "name": "stdout",
     "output_type": "stream",
     "text": [
      "Dari kata pertama : 'rusak' dan kata kedua : 'kasur' maka kedua kata tersebut merupakan Anagram\n"
     ]
    }
   ],
   "source": [
    "def cek_anagram(kata1, kata2):\n",
    "    # Menghilangkan spasi dan mengonversi huruf ke lowercase\n",
    "    kata1 = kata1.replace(\" \", \"\").lower()\n",
    "    kata2 = kata2.replace(\" \", \"\").lower()\n",
    "\n",
    "    # Memeriksa panjang kata\n",
    "    if len(kata1) != len(kata2):\n",
    "        return f\"Dari kata pertama : '{kata1}' dan kata kedua : '{kata2}' maka kedua kata tersebut merupakan Bukan Anagram\"\n",
    "\n",
    "    # Membuat dictionary untuk menyimpan frekuensi huruf pada kedua kata\n",
    "    frekuensi_kata1 = {}\n",
    "    frekuensi_kata2 = {}\n",
    "\n",
    "    # Menghitung frekuensi huruf pada kata pertama\n",
    "    for huruf in kata1:\n",
    "        frekuensi_kata1[huruf] = frekuensi_kata1.get(huruf, 0) + 1\n",
    "\n",
    "    # Menghitung frekuensi huruf pada kata kedua\n",
    "    for huruf in kata2:\n",
    "        frekuensi_kata2[huruf] = frekuensi_kata2.get(huruf, 0) + 1\n",
    "\n",
    "    # Memeriksa apakah frekuensi huruf pada kedua kata sama\n",
    "    if frekuensi_kata1 == frekuensi_kata2:\n",
    "        return f\"Dari kata pertama : '{kata1}' dan kata kedua : '{kata2}' maka kedua kata tersebut merupakan Anagram\"\n",
    "    else:\n",
    "        return f\"Dari kata pertama : '{kata1}' dan kata kedua : '{kata2}' maka kedua kata tersebut merupakan Bukan Anagram\"\n",
    "\n",
    "# Input kata dari pengguna\n",
    "kata1 = input(\"Masukkan kata pertama: \")\n",
    "kata2 = input(\"Masukkan kata kedua: \")\n",
    "\n",
    "# Memeriksa dan cetak hasil anagram\n",
    "hasil = cek_anagram(kata1, kata2)\n",
    "print(hasil)"
   ]
  }
 ],
 "metadata": {
  "kernelspec": {
   "display_name": "Python 3",
   "language": "python",
   "name": "python3"
  },
  "language_info": {
   "codemirror_mode": {
    "name": "ipython",
    "version": 3
   },
   "file_extension": ".py",
   "mimetype": "text/x-python",
   "name": "python",
   "nbconvert_exporter": "python",
   "pygments_lexer": "ipython3",
   "version": "3.9.7"
  }
 },
 "nbformat": 4,
 "nbformat_minor": 2
}
