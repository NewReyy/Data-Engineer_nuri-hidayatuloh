{
 "cells": [
  {
   "cell_type": "markdown",
   "metadata": {},
   "source": [
    "### Soal Prioritas **2 (20)**\n",
    "\n",
    "1. Buatlah sebuah program untuk memasukkan sekumpulan karakter dari sebuah kata berdasarkan ruangan yang tersedia. Mekanisme dapat dilihat pada gambar berikut:\n",
    "    \n",
    "    ![image](../Praktikum/py_dsa_01.png)\n",
    "    \n",
    "Test Case 1:\n",
    "\n",
    "- Input:\n",
    "    - Word: alta\n",
    "    - Rooms: 10\n",
    "- Output: altaaltaal\n",
    "\n",
    "Test Case 2:\n",
    "\n",
    "- Input:\n",
    "    - Word: sepulsa\n",
    "    - Rooms: 20\n",
    "- Output: sepulsasepulsasepuls"
   ]
  },
  {
   "cell_type": "code",
   "execution_count": 6,
   "metadata": {},
   "outputs": [
    {
     "name": "stdout",
     "output_type": "stream",
     "text": [
      "Test Case 1:\n",
      "- Input:\n",
      "    - Kata: alta\n",
      "    - Jumlah Ruangan: 10\n",
      "- Output: altaaltaal\n",
      "\n",
      "Test Case 2:\n",
      "- Input:\n",
      "    - Kata: sepulsa\n",
      "    - Jumlah Ruangan: 20\n",
      "- Output: sepulsasepulsasepuls\n",
      "\n",
      "Test Case 3:\n",
      "- Input:\n",
      "    - Kata: sepulsa mantap\n",
      "    - Jumlah Ruangan: 20\n",
      "- Output: sepulsamantapsepulsa\n"
     ]
    }
   ],
   "source": [
    "def kumpulkan_karakter(kata, jumlah_ruangan):\n",
    "    # Menghapus spasi dari kata\n",
    "    kata_tanpa_spasi = kata.replace(\" \", \"\")\n",
    "\n",
    "    # Memastikan jumlah ruangan tidak kurang dari panjang kata tanpa spasi\n",
    "    if jumlah_ruangan < len(kata_tanpa_spasi):\n",
    "        return \"Jumlah ruangan harus setidaknya sama dengan panjang kata tanpa spasi.\"\n",
    "\n",
    "    # Menghitung berapa kali kata dapat diulang dalam jumlah ruangan\n",
    "    pengulangan = jumlah_ruangan // len(kata_tanpa_spasi)\n",
    "\n",
    "    # Mengulang kata sebanyak pengulangan kali\n",
    "    karakter_terkumpul = kata_tanpa_spasi * pengulangan\n",
    "\n",
    "    # Menghitung sisa ruangan yang belum terisi\n",
    "    sisa_ruangan = jumlah_ruangan % len(kata_tanpa_spasi)\n",
    "\n",
    "    # Jika masih ada sisa ruangan, tambahkan karakter dari kata tanpa spasi sesuai dengan sisa ruangan\n",
    "    if sisa_ruangan > 0:\n",
    "        karakter_terkumpul += kata_tanpa_spasi[:sisa_ruangan]\n",
    "\n",
    "    return karakter_terkumpul\n",
    "\n",
    "# Contoh penggunaan fungsi dengan kata dan jumlah ruangan tertentu\n",
    "print(\"Test Case 1:\")\n",
    "print(\"- Input:\")\n",
    "print(\"    - Kata: alta\")\n",
    "print(\"    - Jumlah Ruangan: 10\")\n",
    "print(\"- Output:\", kumpulkan_karakter(\"alta\", 10))  # Output: altaaltaal\n",
    "\n",
    "print(\"\\nTest Case 2:\")\n",
    "print(\"- Input:\")\n",
    "print(\"    - Kata: sepulsa\")\n",
    "print(\"    - Jumlah Ruangan: 20\")\n",
    "print(\"- Output:\", kumpulkan_karakter(\"sepulsa\", 20))  # Output: sepulsasepulsasepuls\n",
    "\n",
    "print(\"\\nTest Case 3:\")\n",
    "print(\"- Input:\")\n",
    "print(\"    - Kata: sepulsa mantap\")\n",
    "print(\"    - Jumlah Ruangan: 20\")\n",
    "print(\"- Output:\", kumpulkan_karakter(\"sepulsa mantap\", 20))  # Output: sepulsamantapsepulsa"
   ]
  },
  {
   "cell_type": "markdown",
   "metadata": {},
   "source": [
    "2. Buatlah segiempat berukuran height x width yang berisikan bilangan bilangan prima setelah start, pada bagian akhir jumlahkan seluruh bilangan prima tersebut."
   ]
  },
  {
   "cell_type": "code",
   "execution_count": 35,
   "metadata": {},
   "outputs": [
    {
     "name": "stdout",
     "output_type": "stream",
     "text": [
      "17 19\n",
      "23 29\n",
      "31 37\n",
      "156\n",
      "------\n",
      "2 3 5 7 11\n",
      "13 17 19 23 29\n",
      "129\n"
     ]
    }
   ],
   "source": [
    "def is_prime(n):\n",
    "    if n < 2:\n",
    "        return False\n",
    "    for i in range(2, int(n**0.5) + 1):\n",
    "        if n % i == 0:\n",
    "            return False\n",
    "    return True\n",
    "\n",
    "def generate_primes(start, count):\n",
    "    primes = []\n",
    "    num = start\n",
    "    while len(primes) < count:\n",
    "        if is_prime(num):\n",
    "            primes.append(num)\n",
    "        num += 1\n",
    "    return primes\n",
    "\n",
    "def prime_rectangle(height, width, start):\n",
    "    matrix = []\n",
    "    total_sum = 0\n",
    "\n",
    "    for i in range(height):\n",
    "        row_primes = generate_primes(start, width)\n",
    "        matrix.extend(row_primes)\n",
    "        start = row_primes[-1] + 1\n",
    "        total_sum += sum(row_primes)\n",
    "\n",
    "    for i in range(0, len(matrix), height):\n",
    "        print(\" \".join(map(str, matrix[i:i+height])))\n",
    "\n",
    "    print(total_sum)\n",
    "\n",
    "# Contoh penggunaan fungsi\n",
    "prime_rectangle(2, 3, 17)\n",
    "print(\"------\")\n",
    "prime_rectangle(5, 2, 1)"
   ]
  }
 ],
 "metadata": {
  "kernelspec": {
   "display_name": "Python 3",
   "language": "python",
   "name": "python3"
  },
  "language_info": {
   "codemirror_mode": {
    "name": "ipython",
    "version": 3
   },
   "file_extension": ".py",
   "mimetype": "text/x-python",
   "name": "python",
   "nbconvert_exporter": "python",
   "pygments_lexer": "ipython3",
   "version": "3.9.7"
  }
 },
 "nbformat": 4,
 "nbformat_minor": 2
}
