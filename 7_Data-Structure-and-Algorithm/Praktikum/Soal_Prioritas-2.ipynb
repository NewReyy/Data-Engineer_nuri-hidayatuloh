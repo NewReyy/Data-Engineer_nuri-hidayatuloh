{
 "cells": [
  {
   "cell_type": "markdown",
   "metadata": {},
   "source": [
    "### Soal Prioritas **2 (20)**\n",
    "\n",
    "1. Buatlah sebuah program untuk memasukkan sekumpulan karakter dari sebuah kata berdasarkan ruangan yang tersedia. Mekanisme dapat dilihat pada gambar berikut:\n",
    "    \n",
    "    ![image](../Praktikum/py_dsa_01.png)\n",
    "    \n",
    "Test Case 1:\n",
    "\n",
    "- Input:\n",
    "    - Word: alta\n",
    "    - Rooms: 10\n",
    "- Output: altaaltaal\n",
    "\n",
    "Test Case 2:\n",
    "\n",
    "- Input:\n",
    "    - Word: sepulsa\n",
    "    - Rooms: 20\n",
    "- Output: sepulsasepulsasepuls"
   ]
  },
  {
   "cell_type": "code",
   "execution_count": 6,
   "metadata": {},
   "outputs": [
    {
     "name": "stdout",
     "output_type": "stream",
     "text": [
      "Test Case 1:\n",
      "- Input:\n",
      "    - Kata: alta\n",
      "    - Jumlah Ruangan: 10\n",
      "- Output: altaaltaal\n",
      "\n",
      "Test Case 2:\n",
      "- Input:\n",
      "    - Kata: sepulsa\n",
      "    - Jumlah Ruangan: 20\n",
      "- Output: sepulsasepulsasepuls\n",
      "\n",
      "Test Case 3:\n",
      "- Input:\n",
      "    - Kata: sepulsa mantap\n",
      "    - Jumlah Ruangan: 20\n",
      "- Output: sepulsamantapsepulsa\n"
     ]
    }
   ],
   "source": [
    "def kumpulkan_karakter(kata, jumlah_ruangan):\n",
    "    # Menghapus spasi dari kata\n",
    "    kata_tanpa_spasi = kata.replace(\" \", \"\")\n",
    "\n",
    "    # Memastikan jumlah ruangan tidak kurang dari panjang kata tanpa spasi\n",
    "    if jumlah_ruangan < len(kata_tanpa_spasi):\n",
    "        return \"Jumlah ruangan harus setidaknya sama dengan panjang kata tanpa spasi.\"\n",
    "\n",
    "    # Menghitung berapa kali kata dapat diulang dalam jumlah ruangan\n",
    "    pengulangan = jumlah_ruangan // len(kata_tanpa_spasi)\n",
    "\n",
    "    # Mengulang kata sebanyak pengulangan kali\n",
    "    karakter_terkumpul = kata_tanpa_spasi * pengulangan\n",
    "\n",
    "    # Menghitung sisa ruangan yang belum terisi\n",
    "    sisa_ruangan = jumlah_ruangan % len(kata_tanpa_spasi)\n",
    "\n",
    "    # Jika masih ada sisa ruangan, tambahkan karakter dari kata tanpa spasi sesuai dengan sisa ruangan\n",
    "    if sisa_ruangan > 0:\n",
    "        karakter_terkumpul += kata_tanpa_spasi[:sisa_ruangan]\n",
    "\n",
    "    return karakter_terkumpul\n",
    "\n",
    "# Contoh penggunaan fungsi dengan kata dan jumlah ruangan tertentu\n",
    "print(\"Test Case 1:\")\n",
    "print(\"- Input:\")\n",
    "print(\"    - Kata: alta\")\n",
    "print(\"    - Jumlah Ruangan: 10\")\n",
    "print(\"- Output:\", kumpulkan_karakter(\"alta\", 10))  # Output: altaaltaal\n",
    "\n",
    "print(\"\\nTest Case 2:\")\n",
    "print(\"- Input:\")\n",
    "print(\"    - Kata: sepulsa\")\n",
    "print(\"    - Jumlah Ruangan: 20\")\n",
    "print(\"- Output:\", kumpulkan_karakter(\"sepulsa\", 20))  # Output: sepulsasepulsasepuls\n",
    "\n",
    "print(\"\\nTest Case 3:\")\n",
    "print(\"- Input:\")\n",
    "print(\"    - Kata: sepulsa mantap\")\n",
    "print(\"    - Jumlah Ruangan: 20\")\n",
    "print(\"- Output:\", kumpulkan_karakter(\"sepulsa mantap\", 20))  # Output: sepulsamantapsepulsa"
   ]
  },
  {
   "cell_type": "markdown",
   "metadata": {},
   "source": [
    "2. Buatlah segiempat berukuran height x width yang berisikan bilangan bilangan prima setelah start, pada bagian akhir jumlahkan seluruh bilangan prima tersebut."
   ]
  },
  {
   "cell_type": "code",
   "execution_count": null,
   "metadata": {},
   "outputs": [],
   "source": []
  }
 ],
 "metadata": {
  "kernelspec": {
   "display_name": "Python 3",
   "language": "python",
   "name": "python3"
  },
  "language_info": {
   "codemirror_mode": {
    "name": "ipython",
    "version": 3
   },
   "file_extension": ".py",
   "mimetype": "text/x-python",
   "name": "python",
   "nbconvert_exporter": "python",
   "pygments_lexer": "ipython3",
   "version": "3.9.7"
  }
 },
 "nbformat": 4,
 "nbformat_minor": 2
}
