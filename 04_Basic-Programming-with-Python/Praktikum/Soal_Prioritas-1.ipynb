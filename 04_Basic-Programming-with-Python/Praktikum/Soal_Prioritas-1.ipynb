{
 "cells": [
  {
   "cell_type": "markdown",
   "metadata": {},
   "source": [
    "### **Soal Prioritas 1 (80)**\n",
    "\n",
    "1.  Buatlah sebuah program untuk menghitung luas persegi panjang. Kemudian dari hasil perhitungan luas tersebut tampilkan tulisan “**even rectangle**” jika luas merupakan bilangan genap dan tampilkan tulisan “**odd rectangle**” jika luas merupakan bilangan ganjil."
   ]
  },
  {
   "cell_type": "code",
   "execution_count": 6,
   "metadata": {},
   "outputs": [
    {
     "name": "stdout",
     "output_type": "stream",
     "text": [
      "Persegi Panjang dengan panjang 10cm dan lebar 4cm. Menghasilkan luas 40cm2\n",
      "even rectangle\n"
     ]
    }
   ],
   "source": [
    "panjang = int(input(\"Masukkan Panjang : \"))\n",
    "\n",
    "lebar = int(input(\"Masukkan Lebar : \"))\n",
    "luas = panjang * lebar\n",
    "if luas % 2 == 0:\n",
    "    print(f\"Persegi Panjang dengan panjang {panjang}cm dan lebar {lebar}cm. Menghasilkan luas {luas}cm2\")\n",
    "    print(\"even rectangle\")\n",
    "else:\n",
    "    print(f\"Persegi Panjang dengan panjang {panjang}cm dan lebar {lebar}cm. Menghasilkan luas {luas}cm2\")\n",
    "    print(\"odd rectangle\")"
   ]
  },
  {
   "cell_type": "markdown",
   "metadata": {},
   "source": [
    "  2. Buatlah sebuah program untuk menghitung volume bola."
   ]
  },
  {
   "cell_type": "code",
   "execution_count": 5,
   "metadata": {},
   "outputs": [
    {
     "name": "stdout",
     "output_type": "stream",
     "text": [
      "Volume bola dengan jari-jari 10.0cm adalah: 4186.67 cm kubik.\n"
     ]
    }
   ],
   "source": [
    "def hitung_volume_bola(jari_jari):\n",
    "    if jari_jari % 7 == 0:\n",
    "        phi = 22/7\n",
    "    else:\n",
    "        phi = 3.14\n",
    "\n",
    "    return (4/3) * phi * jari_jari**3\n",
    "\n",
    "# Input jari-jari dari pengguna\n",
    "jari_jari = float(input(\"Masukkan jari-jari bola: \"))\n",
    "\n",
    "# Validasi jari-jari positif\n",
    "if jari_jari < 0:\n",
    "    print(\"Jari-jari tidak boleh negatif.\")\n",
    "else:\n",
    "    # Hitung dan cetak volume bola\n",
    "    volume = hitung_volume_bola(jari_jari)\n",
    "    print(f\"Volume bola dengan jari-jari {jari_jari}cm adalah: {volume:.2f} cm3.\")\n"
   ]
  },
  {
   "cell_type": "markdown",
   "metadata": {},
   "source": [
    "3. Buatlah sebuah program yang mencetak angka dari 1 sampai 100 dengan kriteria sebagai berikut:\n",
    "    1. Jika bilangan merupakan kelipatan 3 maka tampilkan hasil kuadrat dari bilangan tersebut.\n",
    "    2. Jika bilangan merupakan kelipatan 5 maka tampilkan hasil perpangkatan 3 dari bilangan tersebut.\n",
    "    3. Jika bilangan merupakan kelipatan 3 dan 5 maka tampilkan tulisan “buzz”\n",
    "    4. Jika tiga kriteria diatas tidak terpenuhi maka tampilkan bilangan aslinya.\n",
    "    \n",
    "    Contoh output adalah seperti ini:"
   ]
  },
  {
   "cell_type": "code",
   "execution_count": 7,
   "metadata": {},
   "outputs": [
    {
     "name": "stdout",
     "output_type": "stream",
     "text": [
      "1\n",
      "2\n",
      "9\n",
      "4\n",
      "125\n",
      "36\n",
      "7\n",
      "8\n",
      "81\n",
      "1000\n",
      "11\n",
      "144\n",
      "13\n",
      "14\n",
      "buzz\n",
      "16\n",
      "17\n",
      "324\n",
      "19\n",
      "8000\n",
      "441\n",
      "22\n",
      "23\n",
      "576\n",
      "15625\n",
      "26\n",
      "729\n",
      "28\n",
      "29\n",
      "buzz\n",
      "31\n",
      "32\n",
      "1089\n",
      "34\n",
      "42875\n",
      "1296\n",
      "37\n",
      "38\n",
      "1521\n",
      "64000\n",
      "41\n",
      "1764\n",
      "43\n",
      "44\n",
      "buzz\n",
      "46\n",
      "47\n",
      "2304\n",
      "49\n",
      "125000\n",
      "2601\n",
      "52\n",
      "53\n",
      "2916\n",
      "166375\n",
      "56\n",
      "3249\n",
      "58\n",
      "59\n",
      "buzz\n",
      "61\n",
      "62\n",
      "3969\n",
      "64\n",
      "274625\n",
      "4356\n",
      "67\n",
      "68\n",
      "4761\n",
      "343000\n",
      "71\n",
      "5184\n",
      "73\n",
      "74\n",
      "buzz\n",
      "76\n",
      "77\n",
      "6084\n",
      "79\n",
      "512000\n",
      "6561\n",
      "82\n",
      "83\n",
      "7056\n",
      "614125\n",
      "86\n",
      "7569\n",
      "88\n",
      "89\n",
      "buzz\n",
      "91\n",
      "92\n",
      "8649\n",
      "94\n",
      "857375\n",
      "9216\n",
      "97\n",
      "98\n",
      "9801\n",
      "1000000\n"
     ]
    }
   ],
   "source": [
    "for bilangan in range(1, 101):\n",
    "    if bilangan % 3 == 0 and bilangan % 5 == 0:\n",
    "        print(\"buzz\")\n",
    "    elif bilangan % 3 == 0:\n",
    "        print(bilangan ** 2)\n",
    "    elif bilangan % 5 == 0:\n",
    "        print(bilangan ** 3)\n",
    "    else:\n",
    "        print(bilangan)"
   ]
  }
 ],
 "metadata": {
  "kernelspec": {
   "display_name": "Python 3",
   "language": "python",
   "name": "python3"
  },
  "language_info": {
   "codemirror_mode": {
    "name": "ipython",
    "version": 3
   },
   "file_extension": ".py",
   "mimetype": "text/x-python",
   "name": "python",
   "nbconvert_exporter": "python",
   "pygments_lexer": "ipython3",
   "version": "3.9.7"
  }
 },
 "nbformat": 4,
 "nbformat_minor": 2
}
