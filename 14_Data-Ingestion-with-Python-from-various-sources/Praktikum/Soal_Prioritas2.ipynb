{
 "cells": [
  {
   "cell_type": "code",
   "execution_count": 16,
   "metadata": {},
   "outputs": [
    {
     "name": "stdout",
     "output_type": "stream",
     "text": [
      "No reviews found.\n"
     ]
    }
   ],
   "source": [
    "import requests\n",
    "from bs4 import BeautifulSoup\n",
    "import pandas as pd\n",
    "from urllib.parse import urljoin\n",
    "\n",
    "def scrape_reviews(url):\n",
    "    response = requests.get(url)\n",
    "    if response.status_code == 200:\n",
    "        soup = BeautifulSoup(response.content, 'html.parser')\n",
    "        review_elements = soup.find_all('div', class_='c-reviews-item')\n",
    "\n",
    "        reviews_data = []\n",
    "\n",
    "        for review in review_elements:\n",
    "            comment = review.find('p', {'data-testid': 'content'}).text.strip()\n",
    "            \n",
    "            # Cek apakah elemen username ditemukan\n",
    "            username_tag = review.find('span', {'data-testid': 'reviewer-name'})\n",
    "            if username_tag:\n",
    "                username = username_tag.text.strip()\n",
    "            else:\n",
    "                username = \"Unknown\"\n",
    "            date = review.find('p', class_='c-reviews-item__date').text.strip()\n",
    "            reviews_data.append({'Comment': comment, 'Username': username, 'Date': date})\n",
    "\n",
    "        return reviews_data\n",
    "    else:\n",
    "        print(\"Failed to fetch page:\", response.status_code)\n",
    "        return None\n",
    "\n",
    "def scrape_all_reviews(url):\n",
    "    all_reviews_data = []\n",
    "\n",
    "    # Scraping halaman pertama\n",
    "    all_reviews_data.extend(scrape_reviews(url))\n",
    "\n",
    "    if all_reviews_data:\n",
    "        df = pd.DataFrame(all_reviews_data)\n",
    "        print(df)\n",
    "        df.to_csv('review_data.csv', index=False)\n",
    "    else:\n",
    "        print(\"No reviews found.\")\n",
    "\n",
    "url = \"https://www.bukalapak.com/p/komputer/aksesoris-226/mouse/k0xwcs-jual-mouse-usb-logitech-mouse-b100-optical-garansi-resmi-1-tahun\"\n",
    "scrape_all_reviews(url)"
   ]
  }
 ],
 "metadata": {
  "kernelspec": {
   "display_name": "Python 3",
   "language": "python",
   "name": "python3"
  },
  "language_info": {
   "codemirror_mode": {
    "name": "ipython",
    "version": 3
   },
   "file_extension": ".py",
   "mimetype": "text/x-python",
   "name": "python",
   "nbconvert_exporter": "python",
   "pygments_lexer": "ipython3",
   "version": "3.9.7"
  }
 },
 "nbformat": 4,
 "nbformat_minor": 2
}
